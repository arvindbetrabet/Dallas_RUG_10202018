{
 "cells": [
  {
   "cell_type": "markdown",
   "metadata": {
    "slideshow": {
     "slide_type": "slide"
    }
   },
   "source": [
    "## Jupyter Notebook Dallas RUG Oct. 20, 2018\n",
    "### Data Wrangling - Chicago Crime Data"
   ]
  },
  {
   "cell_type": "code",
   "execution_count": 82,
   "metadata": {
    "slideshow": {
     "slide_type": "fragment"
    }
   },
   "outputs": [],
   "source": [
    "## Load packages\n",
    "import os\n",
    "import pandas as pd\n",
    "import numpy as np\n",
    "import datetime\n",
    "import matplotlib.pyplot as plt"
   ]
  },
  {
   "cell_type": "code",
   "execution_count": 83,
   "metadata": {
    "slideshow": {
     "slide_type": "fragment"
    }
   },
   "outputs": [],
   "source": [
    "## Load in the first file\n",
    "df1 = pd.read_csv(\"data/Chicago_Crimes_2015.csv\", encoding='utf-8')"
   ]
  },
  {
   "cell_type": "code",
   "execution_count": 84,
   "metadata": {
    "slideshow": {
     "slide_type": "fragment"
    }
   },
   "outputs": [
    {
     "data": {
      "text/html": [
       "<div>\n",
       "<style scoped>\n",
       "    .dataframe tbody tr th:only-of-type {\n",
       "        vertical-align: middle;\n",
       "    }\n",
       "\n",
       "    .dataframe tbody tr th {\n",
       "        vertical-align: top;\n",
       "    }\n",
       "\n",
       "    .dataframe thead th {\n",
       "        text-align: right;\n",
       "    }\n",
       "</style>\n",
       "<table border=\"1\" class=\"dataframe\">\n",
       "  <thead>\n",
       "    <tr style=\"text-align: right;\">\n",
       "      <th></th>\n",
       "      <th>ID</th>\n",
       "      <th>Case Number</th>\n",
       "      <th>Date</th>\n",
       "      <th>Block</th>\n",
       "      <th>IUCR</th>\n",
       "      <th>Primary Type</th>\n",
       "      <th>Description</th>\n",
       "      <th>Location Description</th>\n",
       "      <th>Arrest</th>\n",
       "      <th>Domestic</th>\n",
       "      <th>...</th>\n",
       "      <th>District</th>\n",
       "      <th>Ward</th>\n",
       "      <th>Community Area</th>\n",
       "      <th>FBI Code</th>\n",
       "      <th>X Coordinate</th>\n",
       "      <th>Y Coordinate</th>\n",
       "      <th>Year</th>\n",
       "      <th>Updated On</th>\n",
       "      <th>Latitude</th>\n",
       "      <th>Longitude</th>\n",
       "    </tr>\n",
       "  </thead>\n",
       "  <tbody>\n",
       "    <tr>\n",
       "      <th>0</th>\n",
       "      <td>10508693</td>\n",
       "      <td>HZ250496</td>\n",
       "      <td>5/3/2016 23:40</td>\n",
       "      <td>013XX S SAWYER AVE</td>\n",
       "      <td>486</td>\n",
       "      <td>BATTERY</td>\n",
       "      <td>DOMESTIC BATTERY SIMPLE</td>\n",
       "      <td>APARTMENT</td>\n",
       "      <td>True</td>\n",
       "      <td>True</td>\n",
       "      <td>...</td>\n",
       "      <td>10.0</td>\n",
       "      <td>24.0</td>\n",
       "      <td>29.0</td>\n",
       "      <td>08B</td>\n",
       "      <td>1154907.0</td>\n",
       "      <td>1893681.0</td>\n",
       "      <td>2016</td>\n",
       "      <td>5/10/2016 15:56</td>\n",
       "      <td>41.864073</td>\n",
       "      <td>-87.706819</td>\n",
       "    </tr>\n",
       "    <tr>\n",
       "      <th>1</th>\n",
       "      <td>10508695</td>\n",
       "      <td>HZ250409</td>\n",
       "      <td>5/3/2016 21:40</td>\n",
       "      <td>061XX S DREXEL AVE</td>\n",
       "      <td>486</td>\n",
       "      <td>BATTERY</td>\n",
       "      <td>DOMESTIC BATTERY SIMPLE</td>\n",
       "      <td>RESIDENCE</td>\n",
       "      <td>False</td>\n",
       "      <td>True</td>\n",
       "      <td>...</td>\n",
       "      <td>3.0</td>\n",
       "      <td>20.0</td>\n",
       "      <td>42.0</td>\n",
       "      <td>08B</td>\n",
       "      <td>1183066.0</td>\n",
       "      <td>1864330.0</td>\n",
       "      <td>2016</td>\n",
       "      <td>5/10/2016 15:56</td>\n",
       "      <td>41.782922</td>\n",
       "      <td>-87.604363</td>\n",
       "    </tr>\n",
       "  </tbody>\n",
       "</table>\n",
       "<p>2 rows × 21 columns</p>\n",
       "</div>"
      ],
      "text/plain": [
       "         ID Case Number            Date               Block IUCR Primary Type  \\\n",
       "0  10508693    HZ250496  5/3/2016 23:40  013XX S SAWYER AVE  486      BATTERY   \n",
       "1  10508695    HZ250409  5/3/2016 21:40  061XX S DREXEL AVE  486      BATTERY   \n",
       "\n",
       "               Description Location Description  Arrest  Domestic    ...      \\\n",
       "0  DOMESTIC BATTERY SIMPLE            APARTMENT    True      True    ...       \n",
       "1  DOMESTIC BATTERY SIMPLE            RESIDENCE   False      True    ...       \n",
       "\n",
       "   District  Ward  Community Area  FBI Code X Coordinate  Y Coordinate  Year  \\\n",
       "0      10.0  24.0            29.0       08B    1154907.0     1893681.0  2016   \n",
       "1       3.0  20.0            42.0       08B    1183066.0     1864330.0  2016   \n",
       "\n",
       "        Updated On   Latitude  Longitude  \n",
       "0  5/10/2016 15:56  41.864073 -87.706819  \n",
       "1  5/10/2016 15:56  41.782922 -87.604363  \n",
       "\n",
       "[2 rows x 21 columns]"
      ]
     },
     "execution_count": 84,
     "metadata": {},
     "output_type": "execute_result"
    }
   ],
   "source": [
    "#Examine the top 2 rows of the data frame\n",
    "df1.head(2)"
   ]
  },
  {
   "cell_type": "code",
   "execution_count": 85,
   "metadata": {
    "slideshow": {
     "slide_type": "slide"
    }
   },
   "outputs": [],
   "source": [
    "#Python does not like blank spaces, specially in the column names\n",
    "df1.columns = df1.columns.str.replace(\" \", \"_\")"
   ]
  },
  {
   "cell_type": "code",
   "execution_count": 86,
   "metadata": {
    "slideshow": {
     "slide_type": "fragment"
    }
   },
   "outputs": [
    {
     "data": {
      "text/html": [
       "<div>\n",
       "<style scoped>\n",
       "    .dataframe tbody tr th:only-of-type {\n",
       "        vertical-align: middle;\n",
       "    }\n",
       "\n",
       "    .dataframe tbody tr th {\n",
       "        vertical-align: top;\n",
       "    }\n",
       "\n",
       "    .dataframe thead th {\n",
       "        text-align: right;\n",
       "    }\n",
       "</style>\n",
       "<table border=\"1\" class=\"dataframe\">\n",
       "  <thead>\n",
       "    <tr style=\"text-align: right;\">\n",
       "      <th></th>\n",
       "      <th>ID</th>\n",
       "      <th>Case_Number</th>\n",
       "      <th>Date</th>\n",
       "      <th>Block</th>\n",
       "      <th>IUCR</th>\n",
       "      <th>Primary_Type</th>\n",
       "      <th>Description</th>\n",
       "      <th>Location_Description</th>\n",
       "      <th>Arrest</th>\n",
       "      <th>Domestic</th>\n",
       "      <th>...</th>\n",
       "      <th>District</th>\n",
       "      <th>Ward</th>\n",
       "      <th>Community_Area</th>\n",
       "      <th>FBI_Code</th>\n",
       "      <th>X_Coordinate</th>\n",
       "      <th>Y_Coordinate</th>\n",
       "      <th>Year</th>\n",
       "      <th>Updated_On</th>\n",
       "      <th>Latitude</th>\n",
       "      <th>Longitude</th>\n",
       "    </tr>\n",
       "  </thead>\n",
       "  <tbody>\n",
       "    <tr>\n",
       "      <th>0</th>\n",
       "      <td>10508693</td>\n",
       "      <td>HZ250496</td>\n",
       "      <td>5/3/2016 23:40</td>\n",
       "      <td>013XX S SAWYER AVE</td>\n",
       "      <td>486</td>\n",
       "      <td>BATTERY</td>\n",
       "      <td>DOMESTIC BATTERY SIMPLE</td>\n",
       "      <td>APARTMENT</td>\n",
       "      <td>True</td>\n",
       "      <td>True</td>\n",
       "      <td>...</td>\n",
       "      <td>10.0</td>\n",
       "      <td>24.0</td>\n",
       "      <td>29.0</td>\n",
       "      <td>08B</td>\n",
       "      <td>1154907.0</td>\n",
       "      <td>1893681.0</td>\n",
       "      <td>2016</td>\n",
       "      <td>5/10/2016 15:56</td>\n",
       "      <td>41.864073</td>\n",
       "      <td>-87.706819</td>\n",
       "    </tr>\n",
       "    <tr>\n",
       "      <th>1</th>\n",
       "      <td>10508695</td>\n",
       "      <td>HZ250409</td>\n",
       "      <td>5/3/2016 21:40</td>\n",
       "      <td>061XX S DREXEL AVE</td>\n",
       "      <td>486</td>\n",
       "      <td>BATTERY</td>\n",
       "      <td>DOMESTIC BATTERY SIMPLE</td>\n",
       "      <td>RESIDENCE</td>\n",
       "      <td>False</td>\n",
       "      <td>True</td>\n",
       "      <td>...</td>\n",
       "      <td>3.0</td>\n",
       "      <td>20.0</td>\n",
       "      <td>42.0</td>\n",
       "      <td>08B</td>\n",
       "      <td>1183066.0</td>\n",
       "      <td>1864330.0</td>\n",
       "      <td>2016</td>\n",
       "      <td>5/10/2016 15:56</td>\n",
       "      <td>41.782922</td>\n",
       "      <td>-87.604363</td>\n",
       "    </tr>\n",
       "  </tbody>\n",
       "</table>\n",
       "<p>2 rows × 21 columns</p>\n",
       "</div>"
      ],
      "text/plain": [
       "         ID Case_Number            Date               Block IUCR Primary_Type  \\\n",
       "0  10508693    HZ250496  5/3/2016 23:40  013XX S SAWYER AVE  486      BATTERY   \n",
       "1  10508695    HZ250409  5/3/2016 21:40  061XX S DREXEL AVE  486      BATTERY   \n",
       "\n",
       "               Description Location_Description  Arrest  Domestic    ...      \\\n",
       "0  DOMESTIC BATTERY SIMPLE            APARTMENT    True      True    ...       \n",
       "1  DOMESTIC BATTERY SIMPLE            RESIDENCE   False      True    ...       \n",
       "\n",
       "   District  Ward  Community_Area  FBI_Code X_Coordinate  Y_Coordinate  Year  \\\n",
       "0      10.0  24.0            29.0       08B    1154907.0     1893681.0  2016   \n",
       "1       3.0  20.0            42.0       08B    1183066.0     1864330.0  2016   \n",
       "\n",
       "        Updated_On   Latitude  Longitude  \n",
       "0  5/10/2016 15:56  41.864073 -87.706819  \n",
       "1  5/10/2016 15:56  41.782922 -87.604363  \n",
       "\n",
       "[2 rows x 21 columns]"
      ]
     },
     "execution_count": 86,
     "metadata": {},
     "output_type": "execute_result"
    }
   ],
   "source": [
    "df1.head(2)"
   ]
  },
  {
   "cell_type": "code",
   "execution_count": 87,
   "metadata": {
    "slideshow": {
     "slide_type": "slide"
    }
   },
   "outputs": [],
   "source": [
    "## Load in the second file\n",
    "df2 = pd.read_csv(\"data/Chicago_Crimes_2016.csv\", encoding='utf-8')\n",
    "df2.columns = df2.columns.str.replace(\" \", \"_\")"
   ]
  },
  {
   "cell_type": "code",
   "execution_count": 88,
   "metadata": {
    "slideshow": {
     "slide_type": "fragment"
    }
   },
   "outputs": [],
   "source": [
    "## Bind rows to combine the two data frames\n",
    "df = pd.concat([df1, df2])\n",
    "del df1, df2 #delete the original data frames to free-up memory"
   ]
  },
  {
   "cell_type": "code",
   "execution_count": 89,
   "metadata": {
    "slideshow": {
     "slide_type": "fragment"
    }
   },
   "outputs": [
    {
     "data": {
      "text/plain": [
       "(2097150, 21)"
      ]
     },
     "execution_count": 89,
     "metadata": {},
     "output_type": "execute_result"
    }
   ],
   "source": [
    "df.shape"
   ]
  },
  {
   "cell_type": "code",
   "execution_count": null,
   "metadata": {
    "slideshow": {
     "slide_type": "skip"
    }
   },
   "outputs": [],
   "source": []
  },
  {
   "cell_type": "markdown",
   "metadata": {
    "slideshow": {
     "slide_type": "slide"
    }
   },
   "source": [
    "### Clean and Format data"
   ]
  },
  {
   "cell_type": "code",
   "execution_count": 90,
   "metadata": {
    "slideshow": {
     "slide_type": "fragment"
    }
   },
   "outputs": [],
   "source": [
    "## Remove columns\n",
    "df = df.drop(['IUCR', 'X_Coordinate', 'Y_Coordinate'], axis=1)\n",
    "\n",
    "## Rename columns\n",
    "df = df.rename(columns={\"Date\": \"Datetime\"})"
   ]
  },
  {
   "cell_type": "code",
   "execution_count": 91,
   "metadata": {
    "slideshow": {
     "slide_type": "fragment"
    }
   },
   "outputs": [
    {
     "data": {
      "text/plain": [
       "(2097150, 18)"
      ]
     },
     "execution_count": 91,
     "metadata": {},
     "output_type": "execute_result"
    }
   ],
   "source": [
    "df.shape"
   ]
  },
  {
   "cell_type": "code",
   "execution_count": 92,
   "metadata": {
    "slideshow": {
     "slide_type": "fragment"
    }
   },
   "outputs": [
    {
     "data": {
      "text/html": [
       "<div>\n",
       "<style scoped>\n",
       "    .dataframe tbody tr th:only-of-type {\n",
       "        vertical-align: middle;\n",
       "    }\n",
       "\n",
       "    .dataframe tbody tr th {\n",
       "        vertical-align: top;\n",
       "    }\n",
       "\n",
       "    .dataframe thead th {\n",
       "        text-align: right;\n",
       "    }\n",
       "</style>\n",
       "<table border=\"1\" class=\"dataframe\">\n",
       "  <thead>\n",
       "    <tr style=\"text-align: right;\">\n",
       "      <th></th>\n",
       "      <th>ID</th>\n",
       "      <th>Case_Number</th>\n",
       "      <th>Datetime</th>\n",
       "      <th>Block</th>\n",
       "      <th>Primary_Type</th>\n",
       "      <th>Description</th>\n",
       "      <th>Location_Description</th>\n",
       "      <th>Arrest</th>\n",
       "      <th>Domestic</th>\n",
       "      <th>Beat</th>\n",
       "      <th>District</th>\n",
       "      <th>Ward</th>\n",
       "      <th>Community_Area</th>\n",
       "      <th>FBI_Code</th>\n",
       "      <th>Year</th>\n",
       "      <th>Updated_On</th>\n",
       "      <th>Latitude</th>\n",
       "      <th>Longitude</th>\n",
       "    </tr>\n",
       "  </thead>\n",
       "  <tbody>\n",
       "    <tr>\n",
       "      <th>0</th>\n",
       "      <td>10508693</td>\n",
       "      <td>HZ250496</td>\n",
       "      <td>5/3/2016 23:40</td>\n",
       "      <td>013XX S SAWYER AVE</td>\n",
       "      <td>BATTERY</td>\n",
       "      <td>DOMESTIC BATTERY SIMPLE</td>\n",
       "      <td>APARTMENT</td>\n",
       "      <td>True</td>\n",
       "      <td>True</td>\n",
       "      <td>1022</td>\n",
       "      <td>10.0</td>\n",
       "      <td>24.0</td>\n",
       "      <td>29.0</td>\n",
       "      <td>08B</td>\n",
       "      <td>2016</td>\n",
       "      <td>5/10/2016 15:56</td>\n",
       "      <td>41.864073</td>\n",
       "      <td>-87.706819</td>\n",
       "    </tr>\n",
       "    <tr>\n",
       "      <th>1</th>\n",
       "      <td>10508695</td>\n",
       "      <td>HZ250409</td>\n",
       "      <td>5/3/2016 21:40</td>\n",
       "      <td>061XX S DREXEL AVE</td>\n",
       "      <td>BATTERY</td>\n",
       "      <td>DOMESTIC BATTERY SIMPLE</td>\n",
       "      <td>RESIDENCE</td>\n",
       "      <td>False</td>\n",
       "      <td>True</td>\n",
       "      <td>313</td>\n",
       "      <td>3.0</td>\n",
       "      <td>20.0</td>\n",
       "      <td>42.0</td>\n",
       "      <td>08B</td>\n",
       "      <td>2016</td>\n",
       "      <td>5/10/2016 15:56</td>\n",
       "      <td>41.782922</td>\n",
       "      <td>-87.604363</td>\n",
       "    </tr>\n",
       "  </tbody>\n",
       "</table>\n",
       "</div>"
      ],
      "text/plain": [
       "         ID Case_Number        Datetime               Block Primary_Type  \\\n",
       "0  10508693    HZ250496  5/3/2016 23:40  013XX S SAWYER AVE      BATTERY   \n",
       "1  10508695    HZ250409  5/3/2016 21:40  061XX S DREXEL AVE      BATTERY   \n",
       "\n",
       "               Description Location_Description  Arrest  Domestic  Beat  \\\n",
       "0  DOMESTIC BATTERY SIMPLE            APARTMENT    True      True  1022   \n",
       "1  DOMESTIC BATTERY SIMPLE            RESIDENCE   False      True   313   \n",
       "\n",
       "   District  Ward  Community_Area FBI_Code  Year       Updated_On   Latitude  \\\n",
       "0      10.0  24.0            29.0      08B  2016  5/10/2016 15:56  41.864073   \n",
       "1       3.0  20.0            42.0      08B  2016  5/10/2016 15:56  41.782922   \n",
       "\n",
       "   Longitude  \n",
       "0 -87.706819  \n",
       "1 -87.604363  "
      ]
     },
     "execution_count": 92,
     "metadata": {},
     "output_type": "execute_result"
    }
   ],
   "source": [
    "df.head(2)"
   ]
  },
  {
   "cell_type": "code",
   "execution_count": 93,
   "metadata": {
    "slideshow": {
     "slide_type": "slide"
    }
   },
   "outputs": [],
   "source": [
    "## Change data type for ID\n",
    "def trim_fraction(text):\n",
    "    if '.0' in text:\n",
    "        return text[:text.rfind('.0')]\n",
    "    return text\n",
    "df['ID'] = df['ID'].astype('str')\n",
    "df.ID = df.ID.apply(trim_fraction)"
   ]
  },
  {
   "cell_type": "code",
   "execution_count": 94,
   "metadata": {
    "slideshow": {
     "slide_type": "fragment"
    }
   },
   "outputs": [
    {
     "data": {
      "text/html": [
       "<div>\n",
       "<style scoped>\n",
       "    .dataframe tbody tr th:only-of-type {\n",
       "        vertical-align: middle;\n",
       "    }\n",
       "\n",
       "    .dataframe tbody tr th {\n",
       "        vertical-align: top;\n",
       "    }\n",
       "\n",
       "    .dataframe thead th {\n",
       "        text-align: right;\n",
       "    }\n",
       "</style>\n",
       "<table border=\"1\" class=\"dataframe\">\n",
       "  <thead>\n",
       "    <tr style=\"text-align: right;\">\n",
       "      <th></th>\n",
       "      <th>ID</th>\n",
       "      <th>Case_Number</th>\n",
       "      <th>Datetime</th>\n",
       "      <th>Block</th>\n",
       "      <th>Primary_Type</th>\n",
       "      <th>Description</th>\n",
       "      <th>Location_Description</th>\n",
       "      <th>Arrest</th>\n",
       "      <th>Domestic</th>\n",
       "      <th>Beat</th>\n",
       "      <th>District</th>\n",
       "      <th>Ward</th>\n",
       "      <th>Community_Area</th>\n",
       "      <th>FBI_Code</th>\n",
       "      <th>Year</th>\n",
       "      <th>Updated_On</th>\n",
       "      <th>Latitude</th>\n",
       "      <th>Longitude</th>\n",
       "    </tr>\n",
       "  </thead>\n",
       "  <tbody>\n",
       "    <tr>\n",
       "      <th>0</th>\n",
       "      <td>10508693</td>\n",
       "      <td>HZ250496</td>\n",
       "      <td>5/3/2016 23:40</td>\n",
       "      <td>013XX S SAWYER AVE</td>\n",
       "      <td>BATTERY</td>\n",
       "      <td>DOMESTIC BATTERY SIMPLE</td>\n",
       "      <td>APARTMENT</td>\n",
       "      <td>True</td>\n",
       "      <td>True</td>\n",
       "      <td>1022</td>\n",
       "      <td>10.0</td>\n",
       "      <td>24.0</td>\n",
       "      <td>29.0</td>\n",
       "      <td>08B</td>\n",
       "      <td>2016</td>\n",
       "      <td>5/10/2016 15:56</td>\n",
       "      <td>41.864073</td>\n",
       "      <td>-87.706819</td>\n",
       "    </tr>\n",
       "    <tr>\n",
       "      <th>1</th>\n",
       "      <td>10508695</td>\n",
       "      <td>HZ250409</td>\n",
       "      <td>5/3/2016 21:40</td>\n",
       "      <td>061XX S DREXEL AVE</td>\n",
       "      <td>BATTERY</td>\n",
       "      <td>DOMESTIC BATTERY SIMPLE</td>\n",
       "      <td>RESIDENCE</td>\n",
       "      <td>False</td>\n",
       "      <td>True</td>\n",
       "      <td>313</td>\n",
       "      <td>3.0</td>\n",
       "      <td>20.0</td>\n",
       "      <td>42.0</td>\n",
       "      <td>08B</td>\n",
       "      <td>2016</td>\n",
       "      <td>5/10/2016 15:56</td>\n",
       "      <td>41.782922</td>\n",
       "      <td>-87.604363</td>\n",
       "    </tr>\n",
       "  </tbody>\n",
       "</table>\n",
       "</div>"
      ],
      "text/plain": [
       "         ID Case_Number        Datetime               Block Primary_Type  \\\n",
       "0  10508693    HZ250496  5/3/2016 23:40  013XX S SAWYER AVE      BATTERY   \n",
       "1  10508695    HZ250409  5/3/2016 21:40  061XX S DREXEL AVE      BATTERY   \n",
       "\n",
       "               Description Location_Description  Arrest  Domestic  Beat  \\\n",
       "0  DOMESTIC BATTERY SIMPLE            APARTMENT    True      True  1022   \n",
       "1  DOMESTIC BATTERY SIMPLE            RESIDENCE   False      True   313   \n",
       "\n",
       "   District  Ward  Community_Area FBI_Code  Year       Updated_On   Latitude  \\\n",
       "0      10.0  24.0            29.0      08B  2016  5/10/2016 15:56  41.864073   \n",
       "1       3.0  20.0            42.0      08B  2016  5/10/2016 15:56  41.782922   \n",
       "\n",
       "   Longitude  \n",
       "0 -87.706819  \n",
       "1 -87.604363  "
      ]
     },
     "execution_count": 94,
     "metadata": {},
     "output_type": "execute_result"
    }
   ],
   "source": [
    "df.head(2)"
   ]
  },
  {
   "cell_type": "code",
   "execution_count": 95,
   "metadata": {
    "slideshow": {
     "slide_type": "slide"
    }
   },
   "outputs": [],
   "source": [
    "## Change data types for all columns\n",
    "df['Case_Number'] = df['Case_Number'].astype(str)\n",
    "df['Datetime'] = df['Datetime'].astype(str)\n",
    "df['Block'] = df['Block'].astype(str)\n",
    "df['Primary_Type'] = df['Primary_Type'].astype(str)\n",
    "df['Description'] = df['Description'].astype(str)\n",
    "df['Location_Description'] = df['Location_Description'].astype(str)\n",
    "df['Arrest'] = df['Arrest'].astype(str)\n",
    "df['Domestic'] = df['Domestic'].astype(str)\n",
    "df['Beat'] = pd.to_numeric(df['Beat'], errors='coerce')\n",
    "df['District'] = pd.to_numeric(df['District'], errors='coerce')\n",
    "df['Ward'] = pd.to_numeric(df['Ward'], errors='coerce')\n",
    "df['Community_Area'] = pd.to_numeric(df['Community_Area'], errors='coerce')\n",
    "df['FBI_Code'] = df['FBI_Code'].astype(str)\n",
    "df['Year'] = pd.to_numeric(df['Year'], errors='coerce')\n",
    "df['Updated_On'] = df['Updated_On'].astype(str)\n",
    "df['Latitude'] = pd.to_numeric(df['Latitude'], errors='coerce')\n",
    "df['Longitude'] = pd.to_numeric(df['Longitude'], errors='coerce')"
   ]
  },
  {
   "cell_type": "code",
   "execution_count": 96,
   "metadata": {
    "slideshow": {
     "slide_type": "slide"
    }
   },
   "outputs": [],
   "source": [
    "### Create datetimes\n",
    "\n",
    "df['Datetime'] = pd.to_datetime(df['Datetime'], format=\"%m/%d/%Y %H:%M\", errors='coerce') # Will not work without coerce... R does this automatically\n",
    "df['Updated_On'] = pd.to_datetime(df['Updated_On'], format=\"%m/%d/%Y %H:%M\", errors='coerce')"
   ]
  },
  {
   "cell_type": "code",
   "execution_count": 97,
   "metadata": {
    "slideshow": {
     "slide_type": "fragment"
    }
   },
   "outputs": [
    {
     "data": {
      "text/plain": [
       "0   2016-05-03 23:40:00\n",
       "1   2016-05-03 21:40:00\n",
       "Name: Datetime, dtype: datetime64[ns]"
      ]
     },
     "execution_count": 97,
     "metadata": {},
     "output_type": "execute_result"
    }
   ],
   "source": [
    "df.Datetime.head(2)"
   ]
  },
  {
   "cell_type": "code",
   "execution_count": 98,
   "metadata": {
    "slideshow": {
     "slide_type": "slide"
    }
   },
   "outputs": [],
   "source": [
    "### Create additional columns from datetime\n",
    "\n",
    "## Month name\n",
    "df['Month'] = df['Datetime'].dt.strftime('%B')\n",
    "\n",
    "## Month Number\n",
    "df['Month_Value'] = df['Datetime'].dt.month\n",
    "\n",
    "## Year-Month\n",
    "df['Year_Month'] = df['Datetime'].dt.strftime('%Y-%m')\n",
    "\n",
    "## Hour\n",
    "df['Hour'] = df['Datetime'].dt.hour"
   ]
  },
  {
   "cell_type": "code",
   "execution_count": 99,
   "metadata": {
    "slideshow": {
     "slide_type": "fragment"
    }
   },
   "outputs": [
    {
     "data": {
      "text/plain": [
       "(2097150, 22)"
      ]
     },
     "execution_count": 99,
     "metadata": {},
     "output_type": "execute_result"
    }
   ],
   "source": [
    "df.shape"
   ]
  },
  {
   "cell_type": "code",
   "execution_count": 100,
   "metadata": {
    "slideshow": {
     "slide_type": "slide"
    }
   },
   "outputs": [],
   "source": [
    "## Create unique identifier\n",
    "df['Identifier'] = df['ID'] + '-' + df['Case_Number']\n",
    "\n",
    "## Remove duplicates\n",
    "df = df.sort_values(['Updated_On'], ascending=False)\n",
    "df = df.drop_duplicates('Identifier')"
   ]
  },
  {
   "cell_type": "code",
   "execution_count": 101,
   "metadata": {
    "slideshow": {
     "slide_type": "fragment"
    }
   },
   "outputs": [
    {
     "data": {
      "text/plain": [
       "(1048575, 23)"
      ]
     },
     "execution_count": 101,
     "metadata": {},
     "output_type": "execute_result"
    }
   ],
   "source": [
    "df.shape"
   ]
  },
  {
   "cell_type": "code",
   "execution_count": 102,
   "metadata": {
    "slideshow": {
     "slide_type": "fragment"
    }
   },
   "outputs": [
    {
     "data": {
      "text/html": [
       "<div>\n",
       "<style scoped>\n",
       "    .dataframe tbody tr th:only-of-type {\n",
       "        vertical-align: middle;\n",
       "    }\n",
       "\n",
       "    .dataframe tbody tr th {\n",
       "        vertical-align: top;\n",
       "    }\n",
       "\n",
       "    .dataframe thead th {\n",
       "        text-align: right;\n",
       "    }\n",
       "</style>\n",
       "<table border=\"1\" class=\"dataframe\">\n",
       "  <thead>\n",
       "    <tr style=\"text-align: right;\">\n",
       "      <th></th>\n",
       "      <th>ID</th>\n",
       "      <th>Case_Number</th>\n",
       "      <th>Datetime</th>\n",
       "      <th>Block</th>\n",
       "      <th>Primary_Type</th>\n",
       "      <th>Description</th>\n",
       "      <th>Location_Description</th>\n",
       "      <th>Arrest</th>\n",
       "      <th>Domestic</th>\n",
       "      <th>Beat</th>\n",
       "      <th>...</th>\n",
       "      <th>FBI_Code</th>\n",
       "      <th>Year</th>\n",
       "      <th>Updated_On</th>\n",
       "      <th>Latitude</th>\n",
       "      <th>Longitude</th>\n",
       "      <th>Month</th>\n",
       "      <th>Month_Value</th>\n",
       "      <th>Year_Month</th>\n",
       "      <th>Hour</th>\n",
       "      <th>Identifier</th>\n",
       "    </tr>\n",
       "  </thead>\n",
       "  <tbody>\n",
       "    <tr>\n",
       "      <th>21968</th>\n",
       "      <td>10540332</td>\n",
       "      <td>HZ285468</td>\n",
       "      <td>2016-05-30 00:25:00</td>\n",
       "      <td>018XX W PATTERSON AVE</td>\n",
       "      <td>ROBBERY</td>\n",
       "      <td>ARMED: HANDGUN</td>\n",
       "      <td>STREET</td>\n",
       "      <td>True</td>\n",
       "      <td>False</td>\n",
       "      <td>1922</td>\n",
       "      <td>...</td>\n",
       "      <td>3</td>\n",
       "      <td>2016</td>\n",
       "      <td>2017-01-25 15:52:00</td>\n",
       "      <td>41.947829</td>\n",
       "      <td>-87.675198</td>\n",
       "      <td>May</td>\n",
       "      <td>5</td>\n",
       "      <td>2016-05</td>\n",
       "      <td>0</td>\n",
       "      <td>10540332-HZ285468</td>\n",
       "    </tr>\n",
       "    <tr>\n",
       "      <th>20738</th>\n",
       "      <td>10540215</td>\n",
       "      <td>HZ285367</td>\n",
       "      <td>2016-05-29 23:35:00</td>\n",
       "      <td>039XX N RAVENSWOOD AVE</td>\n",
       "      <td>ROBBERY</td>\n",
       "      <td>ARMED: HANDGUN</td>\n",
       "      <td>STREET</td>\n",
       "      <td>True</td>\n",
       "      <td>False</td>\n",
       "      <td>1922</td>\n",
       "      <td>...</td>\n",
       "      <td>3</td>\n",
       "      <td>2016</td>\n",
       "      <td>2017-01-25 15:52:00</td>\n",
       "      <td>41.953062</td>\n",
       "      <td>-87.674177</td>\n",
       "      <td>May</td>\n",
       "      <td>5</td>\n",
       "      <td>2016-05</td>\n",
       "      <td>23</td>\n",
       "      <td>10540215-HZ285367</td>\n",
       "    </tr>\n",
       "  </tbody>\n",
       "</table>\n",
       "<p>2 rows × 23 columns</p>\n",
       "</div>"
      ],
      "text/plain": [
       "             ID Case_Number            Datetime                   Block  \\\n",
       "21968  10540332    HZ285468 2016-05-30 00:25:00   018XX W PATTERSON AVE   \n",
       "20738  10540215    HZ285367 2016-05-29 23:35:00  039XX N RAVENSWOOD AVE   \n",
       "\n",
       "      Primary_Type     Description Location_Description Arrest Domestic  Beat  \\\n",
       "21968      ROBBERY  ARMED: HANDGUN               STREET   True    False  1922   \n",
       "20738      ROBBERY  ARMED: HANDGUN               STREET   True    False  1922   \n",
       "\n",
       "             ...          FBI_Code  Year          Updated_On   Latitude  \\\n",
       "21968        ...                 3  2016 2017-01-25 15:52:00  41.947829   \n",
       "20738        ...                 3  2016 2017-01-25 15:52:00  41.953062   \n",
       "\n",
       "       Longitude Month  Month_Value  Year_Month Hour         Identifier  \n",
       "21968 -87.675198   May            5     2016-05    0  10540332-HZ285468  \n",
       "20738 -87.674177   May            5     2016-05   23  10540215-HZ285367  \n",
       "\n",
       "[2 rows x 23 columns]"
      ]
     },
     "execution_count": 102,
     "metadata": {},
     "output_type": "execute_result"
    }
   ],
   "source": [
    "df.head(2)"
   ]
  },
  {
   "cell_type": "code",
   "execution_count": 103,
   "metadata": {
    "slideshow": {
     "slide_type": "slide"
    }
   },
   "outputs": [],
   "source": [
    "#### Crime rate per month per District\n",
    "\n",
    "## Get crime counts for each Primary Type \n",
    "dfDistrict = df.groupby(['Year_Month', 'District', 'Primary_Type']).size().reset_index()\n",
    "dfDistrict = dfDistrict.rename(columns={0:'Numerator'})\n",
    "dfDistrict['ID'] = dfDistrict['Year_Month'] + ' ' + dfDistrict['District'].astype(str)"
   ]
  },
  {
   "cell_type": "code",
   "execution_count": 104,
   "metadata": {
    "slideshow": {
     "slide_type": "fragment"
    }
   },
   "outputs": [],
   "source": [
    "## Get crime counts for each month\n",
    "dfMonth = df.groupby(['Year_Month', 'District']).size().reset_index()\n",
    "dfMonth = dfMonth.rename(columns={0:'Denominator'})\n",
    "dfMonth['ID'] = dfMonth['Year_Month'] + ' ' + dfMonth['District'].astype(str)\n",
    "dfMonth = dfMonth[['ID', 'Denominator']]"
   ]
  },
  {
   "cell_type": "code",
   "execution_count": 105,
   "metadata": {
    "slideshow": {
     "slide_type": "fragment"
    }
   },
   "outputs": [],
   "source": [
    "## Join to get numerator and denominator together\n",
    "dfJoin = pd.merge(dfDistrict, dfMonth, how='left')\n",
    "dfJoin['Crime_Rate'] = dfJoin['Numerator']/dfJoin['Denominator'] * 100"
   ]
  },
  {
   "cell_type": "markdown",
   "metadata": {
    "slideshow": {
     "slide_type": "slide"
    }
   },
   "source": [
    "### Visualization - Plots"
   ]
  },
  {
   "cell_type": "code",
   "execution_count": 106,
   "metadata": {
    "slideshow": {
     "slide_type": "fragment"
    }
   },
   "outputs": [],
   "source": [
    "## ## Prepare data frame for Theft from January 2015 onwards\n",
    "dfPrimaryType = dfJoin[(dfJoin['Primary_Type'] == \"THEFT\")].reset_index()\n",
    "dfPrimaryType = dfPrimaryType[(dfPrimaryType['Year_Month'] > \"2014-12\")]"
   ]
  },
  {
   "cell_type": "code",
   "execution_count": 107,
   "metadata": {
    "slideshow": {
     "slide_type": "slide"
    }
   },
   "outputs": [
    {
     "data": {
      "image/png": "[encoded data removed]",
      "text/plain": [
       "<Figure size 648x288 with 1 Axes>"
      ]
     },
     "metadata": {},
     "output_type": "display_data"
    }
   ],
   "source": [
    "## Crime frequency - theft\n",
    "plt.figure(figsize=(9, 4))\n",
    "dfCrimeFreq = dfPrimaryType.pivot(index='Year_Month', columns='District', values='Numerator')\n",
    "dfCrimeFreq = dfCrimeFreq.reset_index()\n",
    "dfCrimeFreq.fillna(0, inplace=True)\n",
    "x = list(range(dfCrimeFreq.shape[0]))\n",
    "y = dfCrimeFreq.drop(['Year_Month'], axis=1)\n",
    "plt.plot(x, y)\n",
    "xticks = dfCrimeFreq['Year_Month']\n",
    "plt.xticks(x, xticks, rotation=45)\n",
    "plt.xlabel('Year-Month', fontsize=12)\n",
    "plt.ylabel('Crime - Theft', fontsize=12)\n",
    "plt.title(\"Theft Crime per Year-Month\", fontsize=14)\n",
    "plt.show()\n",
    "plt.show()"
   ]
  },
  {
   "cell_type": "code",
   "execution_count": 108,
   "metadata": {
    "slideshow": {
     "slide_type": "slide"
    }
   },
   "outputs": [
    {
     "data": {
      "image/png": "[encoded data removed]",
      "text/plain": [
       "<Figure size 648x288 with 1 Axes>"
      ]
     },
     "metadata": {},
     "output_type": "display_data"
    }
   ],
   "source": [
    "## Crime rate - theft\n",
    "plt.figure(figsize=(9, 4))\n",
    "dfCrimeRate = dfPrimaryType.pivot(index='Year_Month', columns='District', values='Crime_Rate')\n",
    "dfCrimeRate = dfCrimeRate.reset_index()\n",
    "dfCrimeRate.fillna(0, inplace=True)\n",
    "x = list(range(dfCrimeRate.shape[0]))\n",
    "y = dfCrimeRate.drop(['Year_Month'], axis=1)\n",
    "plt.plot(x, y)\n",
    "xticks = dfPrimaryType['Year_Month']\n",
    "plt.xticks(x, xticks, rotation=45)\n",
    "plt.xlabel('Year-Month', fontsize=12)\n",
    "plt.ylabel('Crime Rate - Theft', fontsize=12)\n",
    "plt.title(\"Theft Crime Rate per Year-Month\", fontsize=14)\n",
    "plt.show()"
   ]
  },
  {
   "cell_type": "code",
   "execution_count": null,
   "metadata": {
    "slideshow": {
     "slide_type": "skip"
    }
   },
   "outputs": [],
   "source": []
  },
  {
   "cell_type": "code",
   "execution_count": null,
   "metadata": {},
   "outputs": [],
   "source": []
  }
 ],
 "metadata": {
  "celltoolbar": "Slideshow",
  "kernelspec": {
   "display_name": "Python 3",
   "language": "python",
   "name": "python3"
  },
  "language_info": {
   "codemirror_mode": {
    "name": "ipython",
    "version": 3
   },
   "file_extension": ".py",
   "mimetype": "text/x-python",
   "name": "python",
   "nbconvert_exporter": "python",
   "pygments_lexer": "ipython3",
   "version": "3.6.6"
  }
 },
 "nbformat": 4,
 "nbformat_minor": 2
}
